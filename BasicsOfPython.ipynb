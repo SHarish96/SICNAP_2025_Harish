{
 "cells": [
  {
   "cell_type": "markdown",
   "id": "7c40ba5a",
   "metadata": {},
   "source": [
    "Basics of Python"
   ]
  },
  {
   "cell_type": "code",
   "execution_count": 4,
   "id": "2a3bd959",
   "metadata": {},
   "outputs": [
    {
     "name": "stdout",
     "output_type": "stream",
     "text": [
      "Name: Harish\n",
      "College: Vellore Institute of Technology\n",
      "Python is powerful!\n"
     ]
    }
   ],
   "source": [
    "name = \"Harish\"\n",
    "college = \"Vellore Institute of Technology\"\n",
    "\n",
    "print(\"Name:\", name)\n",
    "print(\"College:\", college)\n",
    "print(\"Python is powerful!\")"
   ]
  },
  {
   "cell_type": "code",
   "execution_count": 8,
   "id": "a0e48671",
   "metadata": {},
   "outputs": [
    {
     "name": "stdout",
     "output_type": "stream",
     "text": [
      "Value: 10 | Type: <class 'int'>\n",
      "Value: 3.14 | Type: <class 'float'>\n",
      "value: Hello, Python! | Type: <class 'str'>\n"
     ]
    }
   ],
   "source": [
    "my_int = 10\n",
    "my_float = 3.14\n",
    "my_string = \"Hello, Python!\"\n",
    "\n",
    "print(\"Value:\", my_int, \"| Type:\", type(my_int) )\n",
    "print(\"Value:\", my_float, \"| Type:\", type(my_float) )\n",
    "print(\"value:\", my_string, \"| Type:\", type(my_string) )"
   ]
  },
  {
   "cell_type": "code",
   "execution_count": 13,
   "id": "14673f73",
   "metadata": {},
   "outputs": [
    {
     "name": "stdout",
     "output_type": "stream",
     "text": [
      "Sum:  133.0\n",
      "Differences:  -21.0\n",
      "Product:  4312.0\n"
     ]
    }
   ],
   "source": [
    "\n",
    "num1 = float(input(\"Enter the first number: \" ))\n",
    "num2 = float(input(\"Enter the second number: \"))\n",
    "\n",
    "sum = num1 + num2\n",
    "Difference = num1 - num2\n",
    "Product = num1 * num2\n",
    "\n",
    "print(\"Sum: \", sum)\n",
    "print(\"Differences: \", Difference)\n",
    "print(\"Product: \", Product)\n",
    "\n"
   ]
  },
  {
   "cell_type": "code",
   "execution_count": 14,
   "id": "04a1f7dd",
   "metadata": {},
   "outputs": [
    {
     "name": "stdout",
     "output_type": "stream",
     "text": [
      "The number is positive.\n"
     ]
    }
   ],
   "source": [
    "num = float(input(\"Enter a number: \"))\n",
    "\n",
    "if num > 0:\n",
    "    print(\"The number is positive.\")\n",
    "elif num < 0:\n",
    "    print(\"The number is negative.\")\n",
    "else:\n",
    "    print(\"The number is Zero.\")"
   ]
  },
  {
   "cell_type": "code",
   "execution_count": 15,
   "id": "1b74ee52",
   "metadata": {},
   "outputs": [
    {
     "name": "stdout",
     "output_type": "stream",
     "text": [
      "first fruit: apple\n",
      "last fruit; grapes\n",
      "updated fruits list: ['apple', 'banana', 'kiwi', 'musk melon', 'grapes', 'orange']\n"
     ]
    }
   ],
   "source": [
    "fruits = [\"apple\", \"banana\", \"kiwi\", \"musk melon\", \"grapes\"]\n",
    "\n",
    "print(\"first fruit:\" , fruits[0])\n",
    "print(\"last fruit;\" , fruits[-1])\n",
    "\n",
    "fruits.append(\"orange\")\n",
    "\n",
    "print(\"updated fruits list:\", fruits)"
   ]
  },
  {
   "cell_type": "markdown",
   "id": "3c3f0847",
   "metadata": {},
   "source": [
    "Logic and Control flow"
   ]
  },
  {
   "cell_type": "code",
   "execution_count": 16,
   "id": "22320108",
   "metadata": {},
   "outputs": [
    {
     "name": "stdout",
     "output_type": "stream",
     "text": [
      "The number is odd.\n"
     ]
    }
   ],
   "source": [
    "num = int(input(\"Enter a number; \"))\n",
    "\n",
    "if num % 2 == 0:\n",
    "    print(\"The number is even.\")\n",
    "else:\n",
    "    print(\"The number is odd.\")"
   ]
  },
  {
   "cell_type": "code",
   "execution_count": 17,
   "id": "7e22d62f",
   "metadata": {},
   "outputs": [
    {
     "name": "stdout",
     "output_type": "stream",
     "text": [
      "square of 1 is 1\n",
      "square of 2 is 4\n",
      "square of 3 is 9\n",
      "square of 4 is 16\n",
      "square of 5 is 25\n",
      "square of 6 is 36\n",
      "square of 7 is 49\n",
      "square of 8 is 64\n",
      "square of 9 is 81\n",
      "square of 10 is 100\n"
     ]
    }
   ],
   "source": [
    "for i in range(1,11):\n",
    "    print(\"square of\" , i , \"is\" , i**2)"
   ]
  },
  {
   "cell_type": "code",
   "execution_count": 18,
   "id": "2de6a4e2",
   "metadata": {},
   "outputs": [
    {
     "name": "stdout",
     "output_type": "stream",
     "text": [
      "10\n",
      "9\n",
      "8\n",
      "7\n",
      "6\n",
      "5\n",
      "4\n",
      "3\n",
      "2\n",
      "1\n"
     ]
    }
   ],
   "source": [
    "num = 10\n",
    "while num >= 1:\n",
    "    print(num)\n",
    "    num -= 1"
   ]
  },
  {
   "cell_type": "code",
   "execution_count": 1,
   "id": "391291ed",
   "metadata": {},
   "outputs": [
    {
     "name": "stdout",
     "output_type": "stream",
     "text": [
      "Acess granted\n"
     ]
    }
   ],
   "source": [
    "password = input(\"Enter the password: \")\n",
    "\n",
    "if password == \"Astro@123\":\n",
    "    print(\"Acess granted\")\n",
    "else:\n",
    "    print(\"Access denied\")"
   ]
  },
  {
   "cell_type": "markdown",
   "id": "71be9808",
   "metadata": {},
   "source": [
    "Intermediate Practice"
   ]
  },
  {
   "cell_type": "code",
   "execution_count": 3,
   "id": "f1c0389f",
   "metadata": {},
   "outputs": [
    {
     "name": "stdout",
     "output_type": "stream",
     "text": [
      "Hello, Harish\n",
      "Hello, Ranjith\n",
      "Hello, Rajesh\n"
     ]
    }
   ],
   "source": [
    "def greet(name):\n",
    "    print(\"Hello,\" , name)\n",
    "\n",
    "greet(\"Harish\")\n",
    "greet(\"Ranjith\")\n",
    "greet(\"Rajesh\")\n",
    "\n"
   ]
  },
  {
   "cell_type": "code",
   "execution_count": 4,
   "id": "a50a9f36",
   "metadata": {},
   "outputs": [
    {
     "ename": "TypeError",
     "evalue": "'tuple' object does not support item assignment",
     "output_type": "error",
     "traceback": [
      "\u001b[31m---------------------------------------------------------------------------\u001b[39m",
      "\u001b[31mTypeError\u001b[39m                                 Traceback (most recent call last)",
      "\u001b[36mCell\u001b[39m\u001b[36m \u001b[39m\u001b[32mIn[4]\u001b[39m\u001b[32m, line 3\u001b[39m\n\u001b[32m      1\u001b[39m my_tuple = (\u001b[32m1.1\u001b[39m, \u001b[32m2.2\u001b[39m, \u001b[32m3.3\u001b[39m)\n\u001b[32m----> \u001b[39m\u001b[32m3\u001b[39m \u001b[43mmy_tuple\u001b[49m\u001b[43m[\u001b[49m\u001b[32;43m0\u001b[39;49m\u001b[43m]\u001b[49m = \u001b[32m9.9\u001b[39m\n",
      "\u001b[31mTypeError\u001b[39m: 'tuple' object does not support item assignment"
     ]
    }
   ],
   "source": [
    "my_tuple = (1.1, 2.2, 3.3)\n",
    "\n",
    "my_tuple[0] = 9.9"
   ]
  },
  {
   "cell_type": "code",
   "execution_count": 6,
   "id": "a557c6db",
   "metadata": {},
   "outputs": [
    {
     "name": "stdout",
     "output_type": "stream",
     "text": [
      "Name: Harish\n",
      "Field of Study: Physics\n"
     ]
    }
   ],
   "source": [
    "my_info = {\n",
    "    \"Name\": \"Harish\",\n",
    "    \"Field of Study\": \"Physics\"\n",
    "}\n",
    "\n",
    "for key, value in my_info.items():\n",
    "    print(key + \":\", value)"
   ]
  },
  {
   "cell_type": "code",
   "execution_count": 8,
   "id": "71e7339c",
   "metadata": {},
   "outputs": [
    {
     "name": "stdout",
     "output_type": "stream",
     "text": [
      "The largest number is: 165132.0\n"
     ]
    }
   ],
   "source": [
    "num1 = float(input(\"Enter first number: \"))\n",
    "num2 = float(input(\"Enter second number: \"))\n",
    "num3 = float(input(\"Enter third number: \"))\n",
    "\n",
    "if num1 >= num2 and num1 >= num3:\n",
    "    print(\"The largest number is:\", num1)\n",
    "elif num2 >= num1 and num2 >= num3:\n",
    "    print(\"The largest number is:\", num2)\n",
    "else:\n",
    "    print(\"The largest number is:\", num3) "
   ]
  }
 ],
 "metadata": {
  "kernelspec": {
   "display_name": "Python 3 (ipykernel)",
   "language": "python",
   "name": "python3"
  },
  "language_info": {
   "codemirror_mode": {
    "name": "ipython",
    "version": 3
   },
   "file_extension": ".py",
   "mimetype": "text/x-python",
   "name": "python",
   "nbconvert_exporter": "python",
   "pygments_lexer": "ipython3",
   "version": "3.10.12"
  }
 },
 "nbformat": 4,
 "nbformat_minor": 5
}
